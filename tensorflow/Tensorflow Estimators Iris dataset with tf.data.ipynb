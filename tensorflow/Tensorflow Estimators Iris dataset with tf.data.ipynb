{
 "cells": [
  {
   "cell_type": "code",
   "execution_count": 10,
   "metadata": {},
   "outputs": [],
   "source": [
    "import tensorflow as tf\n",
    "import numpy as np"
   ]
  },
  {
   "cell_type": "code",
   "execution_count": 2,
   "metadata": {},
   "outputs": [],
   "source": [
    "CSV_COLUMNS = ['SepalLength', 'SepalWidth', 'PetalLength', 'PetalWidth', 'Species']\n",
    "LABEL_COLUMN = 'Species'\n",
    "COLUMNS = CSV_COLUMNS[:-1]\n",
    "\n",
    "def parse_csv(line):\n",
    "    fields = tf.decode_csv(line, [[1.0], [1.0], [1.0], [1.0], [1]])\n",
    "    features = dict(zip(CSV_COLUMNS, fields))\n",
    "    labels = features.pop(LABEL_COLUMN)\n",
    "    return features, labels\n",
    "\n",
    "def read_csv(filename, batch_size=2, repeat=None):\n",
    "    return tf.data.TextLineDataset(filename).skip(1).map(parse_csv).shuffle(1000).repeat(repeat).batch(batch_size)"
   ]
  },
  {
   "cell_type": "code",
   "execution_count": 3,
   "metadata": {
    "collapsed": true
   },
   "outputs": [],
   "source": [
    "train_data_filename = \"datasets/iris/train.csv\"\n",
    "test_data_filename = \"datasets/iris/test.csv\""
   ]
  },
  {
   "cell_type": "code",
   "execution_count": 4,
   "metadata": {
    "collapsed": true
   },
   "outputs": [],
   "source": [
    "def input_fn_train():\n",
    "    return read_csv(train_data_filename).make_one_shot_iterator().get_next()\n",
    "\n",
    "def input_fn_test():\n",
    "    return read_csv(test_data_filename, repeat=1).make_one_shot_iterator().get_next()"
   ]
  },
  {
   "cell_type": "code",
   "execution_count": 5,
   "metadata": {},
   "outputs": [
    {
     "name": "stdout",
     "output_type": "stream",
     "text": [
      "[_NumericColumn(key='SepalLength', shape=(1,), default_value=None, dtype=tf.float32, normalizer_fn=None), _NumericColumn(key='SepalWidth', shape=(1,), default_value=None, dtype=tf.float32, normalizer_fn=None), _NumericColumn(key='PetalLength', shape=(1,), default_value=None, dtype=tf.float32, normalizer_fn=None), _NumericColumn(key='PetalWidth', shape=(1,), default_value=None, dtype=tf.float32, normalizer_fn=None)]\n"
     ]
    }
   ],
   "source": [
    "feature_columns = []\n",
    "for column in COLUMNS:\n",
    "    feature_columns.append(tf.feature_column.numeric_column(column))\n",
    "print(feature_columns)"
   ]
  },
  {
   "cell_type": "code",
   "execution_count": 6,
   "metadata": {},
   "outputs": [
    {
     "name": "stdout",
     "output_type": "stream",
     "text": [
      "INFO:tensorflow:Using default config.\n",
      "WARNING:tensorflow:Using temporary folder as model directory: /var/folders/55/qkrngbr949x1jzs0c0dt70wc0000gn/T/tmpfMrWoo\n",
      "INFO:tensorflow:Using config: {'_save_checkpoints_secs': 600, '_session_config': None, '_keep_checkpoint_max': 5, '_task_type': 'worker', '_train_distribute': None, '_is_chief': True, '_cluster_spec': <tensorflow.python.training.server_lib.ClusterSpec object at 0x11d146d90>, '_evaluation_master': '', '_save_checkpoints_steps': None, '_keep_checkpoint_every_n_hours': 10000, '_service': None, '_num_ps_replicas': 0, '_tf_random_seed': None, '_master': '', '_num_worker_replicas': 1, '_task_id': 0, '_log_step_count_steps': 100, '_model_dir': '/var/folders/55/qkrngbr949x1jzs0c0dt70wc0000gn/T/tmpfMrWoo', '_global_id_in_cluster': 0, '_save_summary_steps': 100}\n"
     ]
    }
   ],
   "source": [
    "classifier = tf.estimator.DNNClassifier(hidden_units=[10, 10], feature_columns=feature_columns, n_classes=3)"
   ]
  },
  {
   "cell_type": "code",
   "execution_count": 7,
   "metadata": {},
   "outputs": [
    {
     "name": "stdout",
     "output_type": "stream",
     "text": [
      "INFO:tensorflow:Calling model_fn.\n",
      "INFO:tensorflow:Done calling model_fn.\n",
      "INFO:tensorflow:Create CheckpointSaverHook.\n",
      "INFO:tensorflow:Graph was finalized.\n",
      "INFO:tensorflow:Running local_init_op.\n",
      "INFO:tensorflow:Done running local_init_op.\n",
      "INFO:tensorflow:Saving checkpoints for 1 into /var/folders/55/qkrngbr949x1jzs0c0dt70wc0000gn/T/tmpfMrWoo/model.ckpt.\n",
      "INFO:tensorflow:loss = 7.375078, step = 1\n",
      "INFO:tensorflow:global_step/sec: 753.557\n",
      "INFO:tensorflow:loss = 1.1548603, step = 101 (0.134 sec)\n",
      "INFO:tensorflow:global_step/sec: 1306.06\n",
      "INFO:tensorflow:loss = 0.47095263, step = 201 (0.077 sec)\n",
      "INFO:tensorflow:global_step/sec: 1243.7\n",
      "INFO:tensorflow:loss = 0.928869, step = 301 (0.080 sec)\n",
      "INFO:tensorflow:global_step/sec: 1276.5\n",
      "INFO:tensorflow:loss = 0.38179848, step = 401 (0.078 sec)\n",
      "INFO:tensorflow:global_step/sec: 1224.57\n",
      "INFO:tensorflow:loss = 0.28186956, step = 501 (0.082 sec)\n",
      "INFO:tensorflow:global_step/sec: 1329.29\n",
      "INFO:tensorflow:loss = 0.2430818, step = 601 (0.075 sec)\n",
      "INFO:tensorflow:global_step/sec: 1379.35\n",
      "INFO:tensorflow:loss = 0.3704036, step = 701 (0.073 sec)\n",
      "INFO:tensorflow:global_step/sec: 1111.99\n",
      "INFO:tensorflow:loss = 0.012641797, step = 801 (0.091 sec)\n",
      "INFO:tensorflow:global_step/sec: 766.918\n",
      "INFO:tensorflow:loss = 0.014492592, step = 901 (0.132 sec)\n",
      "INFO:tensorflow:global_step/sec: 936.331\n",
      "INFO:tensorflow:loss = 0.14915223, step = 1001 (0.105 sec)\n",
      "INFO:tensorflow:global_step/sec: 1049.39\n",
      "INFO:tensorflow:loss = 0.16086306, step = 1101 (0.095 sec)\n",
      "INFO:tensorflow:global_step/sec: 1125.73\n",
      "INFO:tensorflow:loss = 0.008258109, step = 1201 (0.089 sec)\n",
      "INFO:tensorflow:global_step/sec: 1176.54\n",
      "INFO:tensorflow:loss = 0.8973826, step = 1301 (0.085 sec)\n",
      "INFO:tensorflow:global_step/sec: 1105.79\n",
      "INFO:tensorflow:loss = 0.0079397075, step = 1401 (0.090 sec)\n",
      "INFO:tensorflow:global_step/sec: 1100.97\n",
      "INFO:tensorflow:loss = 0.0072697373, step = 1501 (0.091 sec)\n",
      "INFO:tensorflow:global_step/sec: 1204.58\n",
      "INFO:tensorflow:loss = 3.150788, step = 1601 (0.083 sec)\n",
      "INFO:tensorflow:global_step/sec: 1208.26\n",
      "INFO:tensorflow:loss = 0.009055103, step = 1701 (0.082 sec)\n",
      "INFO:tensorflow:global_step/sec: 813.968\n",
      "INFO:tensorflow:loss = 0.044217654, step = 1801 (0.124 sec)\n",
      "INFO:tensorflow:global_step/sec: 861.022\n",
      "INFO:tensorflow:loss = 0.07202165, step = 1901 (0.117 sec)\n",
      "INFO:tensorflow:global_step/sec: 965\n",
      "INFO:tensorflow:loss = 0.0357427, step = 2001 (0.102 sec)\n",
      "INFO:tensorflow:global_step/sec: 1018.19\n",
      "INFO:tensorflow:loss = 0.17003365, step = 2101 (0.099 sec)\n",
      "INFO:tensorflow:global_step/sec: 1099.19\n",
      "INFO:tensorflow:loss = 2.3696613, step = 2201 (0.090 sec)\n",
      "INFO:tensorflow:global_step/sec: 1106.74\n",
      "INFO:tensorflow:loss = 0.008913911, step = 2301 (0.091 sec)\n",
      "INFO:tensorflow:global_step/sec: 1012.33\n",
      "INFO:tensorflow:loss = 0.06246023, step = 2401 (0.099 sec)\n",
      "INFO:tensorflow:Saving checkpoints for 2500 into /var/folders/55/qkrngbr949x1jzs0c0dt70wc0000gn/T/tmpfMrWoo/model.ckpt.\n",
      "INFO:tensorflow:Loss for final step: 0.018787766.\n"
     ]
    },
    {
     "data": {
      "text/plain": [
       "<tensorflow.python.estimator.canned.dnn.DNNClassifier at 0x1266beb50>"
      ]
     },
     "execution_count": 7,
     "metadata": {},
     "output_type": "execute_result"
    }
   ],
   "source": [
    "classifier.train(input_fn=input_fn_train, steps=2500)"
   ]
  },
  {
   "cell_type": "code",
   "execution_count": 8,
   "metadata": {},
   "outputs": [
    {
     "name": "stdout",
     "output_type": "stream",
     "text": [
      "INFO:tensorflow:Calling model_fn.\n",
      "INFO:tensorflow:Done calling model_fn.\n",
      "INFO:tensorflow:Starting evaluation at 2018-04-24-19:50:44\n",
      "INFO:tensorflow:Graph was finalized.\n",
      "INFO:tensorflow:Restoring parameters from /var/folders/55/qkrngbr949x1jzs0c0dt70wc0000gn/T/tmpfMrWoo/model.ckpt-2500\n",
      "INFO:tensorflow:Running local_init_op.\n",
      "INFO:tensorflow:Done running local_init_op.\n",
      "INFO:tensorflow:Finished evaluation at 2018-04-24-19:50:44\n",
      "INFO:tensorflow:Saving dict for global step 2500: accuracy = 0.96666664, average_loss = 0.07805012, global_step = 2500, loss = 0.15610024\n"
     ]
    },
    {
     "data": {
      "text/plain": [
       "{'accuracy': 0.96666664,\n",
       " 'average_loss': 0.07805012,\n",
       " 'global_step': 2500,\n",
       " 'loss': 0.15610024}"
      ]
     },
     "execution_count": 8,
     "metadata": {},
     "output_type": "execute_result"
    }
   ],
   "source": [
    "classifier.evaluate(input_fn=input_fn_test)"
   ]
  },
  {
   "cell_type": "code",
   "execution_count": 9,
   "metadata": {},
   "outputs": [
    {
     "name": "stdout",
     "output_type": "stream",
     "text": [
      "INFO:tensorflow:Calling model_fn.\n",
      "INFO:tensorflow:Done calling model_fn.\n",
      "INFO:tensorflow:Graph was finalized.\n",
      "INFO:tensorflow:Restoring parameters from /var/folders/55/qkrngbr949x1jzs0c0dt70wc0000gn/T/tmpfMrWoo/model.ckpt-2500\n",
      "INFO:tensorflow:Running local_init_op.\n",
      "INFO:tensorflow:Done running local_init_op.\n",
      "\n",
      "Prediction is \"Versicolor\" (98.5%), expected \"Setosa\"\n",
      "\n",
      "Prediction is \"Versicolor\" (99.6%), expected \"Versicolor\"\n",
      "\n",
      "Prediction is \"Setosa\" (100.0%), expected \"Virginica\"\n"
     ]
    }
   ],
   "source": [
    "# predict\n",
    "expected = ['Setosa', 'Versicolor', 'Virginica']\n",
    "predict_x = {\n",
    "    'SepalLength': [5.1, 5.9, 6.9],\n",
    "    'SepalWidth': [3.3, 3.0, 3.1],\n",
    "    'PetalLength': [1.7, 4.2, 5.4],\n",
    "    'PetalWidth': [0.5, 1.5, 2.1],\n",
    "}\n",
    "SPECIES = ['Setosa', 'Versicolor', 'Virginica']\n",
    "\n",
    "def input_fn_predictions():\n",
    "    return read_csv(test_data_filename, repeat=1).make_one_shot_iterator().get_next()\n",
    "    return tf.data.Dataset.from_tensor_slices((predict_x, expected)).make_one_shot_iterator().get_next()\n",
    "\n",
    "predictions = classifier.predict(input_fn=input_fn_predictions)\n",
    "\n",
    "for pred_dict, expec in zip(predictions, expected):\n",
    "    template = ('\\nPrediction is \"{}\" ({:.1f}%), expected \"{}\"')\n",
    "\n",
    "    class_id = pred_dict['class_ids'][0]\n",
    "    probability = pred_dict['probabilities'][class_id]\n",
    "\n",
    "    print(template.format(SPECIES[class_id], 100 * probability, expec))"
   ]
  }
 ],
 "metadata": {
  "kernelspec": {
   "display_name": "Python 3",
   "language": "python",
   "name": "python3"
  },
  "language_info": {
   "codemirror_mode": {
    "name": "ipython",
    "version": 2
   },
   "file_extension": ".py",
   "mimetype": "text/x-python",
   "name": "python",
   "nbconvert_exporter": "python",
   "pygments_lexer": "ipython2",
   "version": "2.7.13"
  }
 },
 "nbformat": 4,
 "nbformat_minor": 2
}
