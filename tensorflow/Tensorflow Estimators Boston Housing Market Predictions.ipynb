{
 "cells": [
  {
   "cell_type": "code",
   "execution_count": 60,
   "metadata": {
    "collapsed": true
   },
   "outputs": [],
   "source": [
    "import tensorflow as tf\n",
    "import pandas as pd"
   ]
  },
  {
   "cell_type": "code",
   "execution_count": 65,
   "metadata": {},
   "outputs": [],
   "source": [
    "csv_label_name = \"medv\" # value of the house \\$1000s\n",
    "csv_column_names = [\"crim\", \"zn\", \"indus\", \"nox\", \"rm\", \"age\",\n",
    "           \"dis\", \"tax\", \"ptratio\", \"medv\"]\n",
    "feature_names = [\"crim\", \"zn\", \"indus\", \"nox\", \"rm\",\n",
    "            \"age\", \"dis\", \"tax\", \"ptratio\"]\n",
    "\n",
    "train_data = pd.read_csv(\"datasets/boston-housing/train.csv\", names=csv_column_names, skiprows=1, skipinitialspace=True)\n",
    "test_data = pd.read_csv(\"datasets/boston-housing/test.csv\", names=csv_column_names, skiprows=1, skipinitialspace=True)"
   ]
  },
  {
   "cell_type": "code",
   "execution_count": 66,
   "metadata": {},
   "outputs": [
    {
     "name": "stdout",
     "output_type": "stream",
     "text": [
      "INFO:tensorflow:Using default config.\n",
      "WARNING:tensorflow:Using temporary folder as model directory: /var/folders/55/qkrngbr949x1jzs0c0dt70wc0000gn/T/tmpfW4DQB\n",
      "INFO:tensorflow:Using config: {'_save_checkpoints_secs': 600, '_session_config': None, '_keep_checkpoint_max': 5, '_task_type': 'worker', '_train_distribute': None, '_is_chief': True, '_cluster_spec': <tensorflow.python.training.server_lib.ClusterSpec object at 0x1267c9350>, '_evaluation_master': '', '_save_checkpoints_steps': None, '_keep_checkpoint_every_n_hours': 10000, '_service': None, '_num_ps_replicas': 0, '_tf_random_seed': None, '_master': '', '_num_worker_replicas': 1, '_task_id': 0, '_log_step_count_steps': 100, '_model_dir': '/var/folders/55/qkrngbr949x1jzs0c0dt70wc0000gn/T/tmpfW4DQB', '_global_id_in_cluster': 0, '_save_summary_steps': 100}\n"
     ]
    }
   ],
   "source": [
    "feature_columns = [\n",
    "    tf.feature_column.numeric_column(feature) for feature in feature_names\n",
    "]\n",
    "    \n",
    "estimator = tf.estimator.DNNRegressor(hidden_units=[10, 10], feature_columns=feature_columns)"
   ]
  },
  {
   "cell_type": "code",
   "execution_count": 69,
   "metadata": {},
   "outputs": [
    {
     "name": "stdout",
     "output_type": "stream",
     "text": [
      "INFO:tensorflow:Calling model_fn.\n",
      "INFO:tensorflow:Done calling model_fn.\n",
      "INFO:tensorflow:Create CheckpointSaverHook.\n",
      "INFO:tensorflow:Graph was finalized.\n",
      "INFO:tensorflow:Restoring parameters from /var/folders/55/qkrngbr949x1jzs0c0dt70wc0000gn/T/tmpfW4DQB/model.ckpt-5000\n",
      "INFO:tensorflow:Running local_init_op.\n",
      "INFO:tensorflow:Done running local_init_op.\n",
      "INFO:tensorflow:Saving checkpoints for 5001 into /var/folders/55/qkrngbr949x1jzs0c0dt70wc0000gn/T/tmpfW4DQB/model.ckpt.\n",
      "INFO:tensorflow:loss = 2647.733, step = 5001\n",
      "INFO:tensorflow:global_step/sec: 237.866\n",
      "INFO:tensorflow:loss = 3398.3218, step = 5101 (0.422 sec)\n",
      "INFO:tensorflow:global_step/sec: 385.239\n",
      "INFO:tensorflow:loss = 2811.7888, step = 5201 (0.261 sec)\n",
      "INFO:tensorflow:global_step/sec: 250.924\n",
      "INFO:tensorflow:loss = 4297.0015, step = 5301 (0.398 sec)\n",
      "INFO:tensorflow:global_step/sec: 332.12\n",
      "INFO:tensorflow:loss = 3905.2136, step = 5401 (0.301 sec)\n",
      "INFO:tensorflow:global_step/sec: 310.563\n",
      "INFO:tensorflow:loss = 1948.685, step = 5501 (0.322 sec)\n",
      "INFO:tensorflow:global_step/sec: 335.126\n",
      "INFO:tensorflow:loss = 3306.733, step = 5601 (0.299 sec)\n",
      "INFO:tensorflow:global_step/sec: 346.512\n",
      "INFO:tensorflow:loss = 3674.7236, step = 5701 (0.288 sec)\n",
      "INFO:tensorflow:global_step/sec: 365.403\n",
      "INFO:tensorflow:loss = 3203.9822, step = 5801 (0.274 sec)\n",
      "INFO:tensorflow:global_step/sec: 280.808\n",
      "INFO:tensorflow:loss = 3180.713, step = 5901 (0.356 sec)\n",
      "INFO:tensorflow:global_step/sec: 353.527\n",
      "INFO:tensorflow:loss = 3680.509, step = 6001 (0.283 sec)\n",
      "INFO:tensorflow:global_step/sec: 351.673\n",
      "INFO:tensorflow:loss = 1788.3998, step = 6101 (0.284 sec)\n",
      "INFO:tensorflow:global_step/sec: 340.061\n",
      "INFO:tensorflow:loss = 3874.7725, step = 6201 (0.294 sec)\n",
      "INFO:tensorflow:global_step/sec: 303.474\n",
      "INFO:tensorflow:loss = 3627.0015, step = 6301 (0.329 sec)\n",
      "INFO:tensorflow:global_step/sec: 376.699\n",
      "INFO:tensorflow:loss = 1827.2983, step = 6401 (0.265 sec)\n",
      "INFO:tensorflow:global_step/sec: 369.915\n",
      "INFO:tensorflow:loss = 3582.3955, step = 6501 (0.270 sec)\n",
      "INFO:tensorflow:global_step/sec: 323.121\n",
      "INFO:tensorflow:loss = 4219.4443, step = 6601 (0.310 sec)\n",
      "INFO:tensorflow:global_step/sec: 334.957\n",
      "INFO:tensorflow:loss = 1941.4658, step = 6701 (0.298 sec)\n",
      "INFO:tensorflow:global_step/sec: 349.968\n",
      "INFO:tensorflow:loss = 3082.253, step = 6801 (0.285 sec)\n",
      "INFO:tensorflow:global_step/sec: 372.948\n",
      "INFO:tensorflow:loss = 3648.3618, step = 6901 (0.269 sec)\n",
      "INFO:tensorflow:global_step/sec: 349.902\n",
      "INFO:tensorflow:loss = 1971.8231, step = 7001 (0.286 sec)\n",
      "INFO:tensorflow:global_step/sec: 344.571\n",
      "INFO:tensorflow:loss = 3339.9604, step = 7101 (0.291 sec)\n",
      "INFO:tensorflow:global_step/sec: 362.908\n",
      "INFO:tensorflow:loss = 4633.8555, step = 7201 (0.275 sec)\n",
      "INFO:tensorflow:global_step/sec: 369.612\n",
      "INFO:tensorflow:loss = 1863.3708, step = 7301 (0.271 sec)\n",
      "INFO:tensorflow:global_step/sec: 377.433\n",
      "INFO:tensorflow:loss = 4304.189, step = 7401 (0.265 sec)\n",
      "INFO:tensorflow:global_step/sec: 357.679\n",
      "INFO:tensorflow:loss = 3529.842, step = 7501 (0.280 sec)\n",
      "INFO:tensorflow:global_step/sec: 344.101\n",
      "INFO:tensorflow:loss = 2047.6705, step = 7601 (0.291 sec)\n",
      "INFO:tensorflow:global_step/sec: 286.862\n",
      "INFO:tensorflow:loss = 3920.8208, step = 7701 (0.349 sec)\n",
      "INFO:tensorflow:global_step/sec: 340.698\n",
      "INFO:tensorflow:loss = 3260.6172, step = 7801 (0.293 sec)\n",
      "INFO:tensorflow:global_step/sec: 372.173\n",
      "INFO:tensorflow:loss = 1501.629, step = 7901 (0.269 sec)\n",
      "INFO:tensorflow:global_step/sec: 320.269\n",
      "INFO:tensorflow:loss = 4182.1353, step = 8001 (0.314 sec)\n",
      "INFO:tensorflow:global_step/sec: 257.573\n",
      "INFO:tensorflow:loss = 3301.9814, step = 8101 (0.388 sec)\n",
      "INFO:tensorflow:global_step/sec: 321.435\n",
      "INFO:tensorflow:loss = 2466.3596, step = 8201 (0.311 sec)\n",
      "INFO:tensorflow:global_step/sec: 303.943\n",
      "INFO:tensorflow:loss = 2439.0442, step = 8301 (0.330 sec)\n",
      "INFO:tensorflow:global_step/sec: 321.481\n",
      "INFO:tensorflow:loss = 3611.9478, step = 8401 (0.310 sec)\n",
      "INFO:tensorflow:global_step/sec: 368.501\n",
      "INFO:tensorflow:loss = 1296.6217, step = 8501 (0.271 sec)\n",
      "INFO:tensorflow:global_step/sec: 363.203\n",
      "INFO:tensorflow:loss = 4248.082, step = 8601 (0.275 sec)\n",
      "INFO:tensorflow:global_step/sec: 353.097\n",
      "INFO:tensorflow:loss = 5090.9526, step = 8701 (0.283 sec)\n",
      "INFO:tensorflow:global_step/sec: 349.054\n",
      "INFO:tensorflow:loss = 1693.5372, step = 8801 (0.287 sec)\n",
      "INFO:tensorflow:global_step/sec: 363.84\n",
      "INFO:tensorflow:loss = 2851.7979, step = 8901 (0.276 sec)\n",
      "INFO:tensorflow:global_step/sec: 349.626\n",
      "INFO:tensorflow:loss = 3718.4326, step = 9001 (0.285 sec)\n",
      "INFO:tensorflow:global_step/sec: 355.146\n",
      "INFO:tensorflow:loss = 2740.6704, step = 9101 (0.281 sec)\n",
      "INFO:tensorflow:global_step/sec: 348.722\n",
      "INFO:tensorflow:loss = 3338.8228, step = 9201 (0.289 sec)\n",
      "INFO:tensorflow:global_step/sec: 304.421\n",
      "INFO:tensorflow:loss = 4028.822, step = 9301 (0.326 sec)\n",
      "INFO:tensorflow:global_step/sec: 377.772\n",
      "INFO:tensorflow:loss = 2084.73, step = 9401 (0.265 sec)\n",
      "INFO:tensorflow:global_step/sec: 371.205\n",
      "INFO:tensorflow:loss = 3202.4438, step = 9501 (0.269 sec)\n",
      "INFO:tensorflow:global_step/sec: 373.58\n",
      "INFO:tensorflow:loss = 3508.8472, step = 9601 (0.268 sec)\n",
      "INFO:tensorflow:global_step/sec: 344.907\n",
      "INFO:tensorflow:loss = 1466.5391, step = 9701 (0.290 sec)\n",
      "INFO:tensorflow:global_step/sec: 350.656\n",
      "INFO:tensorflow:loss = 3793.396, step = 9801 (0.285 sec)\n",
      "INFO:tensorflow:global_step/sec: 355.581\n",
      "INFO:tensorflow:loss = 3686.5005, step = 9901 (0.281 sec)\n",
      "INFO:tensorflow:Saving checkpoints for 10000 into /var/folders/55/qkrngbr949x1jzs0c0dt70wc0000gn/T/tmpfW4DQB/model.ckpt.\n",
      "INFO:tensorflow:Loss for final step: 2700.3745.\n"
     ]
    },
    {
     "data": {
      "text/plain": [
       "<tensorflow.python.estimator.canned.dnn.DNNRegressor at 0x12680c190>"
      ]
     },
     "execution_count": 69,
     "metadata": {},
     "output_type": "execute_result"
    }
   ],
   "source": [
    "def input_fn(dataset, shuffle=0, batch=128):\n",
    "    data_set = tf.data.Dataset.from_tensor_slices((dict(dataset), dataset[csv_label_name].values))\n",
    "    if shuffle > 0:\n",
    "        data_set = data_set.shuffle(shuffle)\n",
    "    return (data_set.batch(128)\n",
    "        # Repeat forever\n",
    "        .repeat().make_one_shot_iterator().get_next())\n",
    "\n",
    "def input_fn_train():\n",
    "    return input_fn(train_data, shuffle=1000)\n",
    "\n",
    "def input_fn_test():\n",
    "    return input_fn(test_data)\n",
    "\n",
    "estimator.train(input_fn=input_fn_train, steps=5000)"
   ]
  },
  {
   "cell_type": "code",
   "execution_count": null,
   "metadata": {},
   "outputs": [
    {
     "name": "stdout",
     "output_type": "stream",
     "text": [
      "INFO:tensorflow:Calling model_fn.\n",
      "INFO:tensorflow:Done calling model_fn.\n",
      "INFO:tensorflow:Starting evaluation at 2018-04-23-22:12:06\n",
      "INFO:tensorflow:Graph was finalized.\n",
      "INFO:tensorflow:Restoring parameters from /var/folders/55/qkrngbr949x1jzs0c0dt70wc0000gn/T/tmpfW4DQB/model.ckpt-10000\n",
      "INFO:tensorflow:Running local_init_op.\n",
      "INFO:tensorflow:Done running local_init_op.\n"
     ]
    }
   ],
   "source": [
    "evaluation = estimator.evaluate(input_fn=input_fn_test)\n",
    "loss_score = evaluation[\"loss\"]\n",
    "print(\"Loss: {0:f}\".format(loss_score))"
   ]
  },
  {
   "cell_type": "code",
   "execution_count": null,
   "metadata": {},
   "outputs": [],
   "source": [
    "test_data = pd.read_csv(\"datasets/boston-housing/test.csv\", names=csv_column_names, skiprows=1, skipinitialspace=True)\n",
    "predictions = estimator.predict(input_fn=input_fn(test_data))\n",
    "list(predictions)"
   ]
  }
 ],
 "metadata": {
  "kernelspec": {
   "display_name": "Python 3",
   "language": "python",
   "name": "python3"
  },
  "language_info": {
   "codemirror_mode": {
    "name": "ipython",
    "version": 2
   },
   "file_extension": ".py",
   "mimetype": "text/x-python",
   "name": "python",
   "nbconvert_exporter": "python",
   "pygments_lexer": "ipython2",
   "version": "2.7.13"
  }
 },
 "nbformat": 4,
 "nbformat_minor": 2
}
