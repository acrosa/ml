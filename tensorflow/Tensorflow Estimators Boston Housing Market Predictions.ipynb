{
 "cells": [
  {
   "cell_type": "code",
   "execution_count": 1,
   "metadata": {},
   "outputs": [
    {
     "name": "stderr",
     "output_type": "stream",
     "text": [
      "/Users/ale/anaconda3/lib/python2.7/site-packages/h5py/__init__.py:34: FutureWarning: Conversion of the second argument of issubdtype from `float` to `np.floating` is deprecated. In future, it will be treated as `np.float64 == np.dtype(float).type`.\n",
      "  from ._conv import register_converters as _register_converters\n"
     ]
    }
   ],
   "source": [
    "import tensorflow as tf\n",
    "import pandas as pd"
   ]
  },
  {
   "cell_type": "code",
   "execution_count": 2,
   "metadata": {},
   "outputs": [],
   "source": [
    "csv_label_name = \"medv\" # value of the house \\$1000s\n",
    "csv_column_names = [\"crim\", \"zn\", \"indus\", \"nox\", \"rm\", \"age\",\n",
    "           \"dis\", \"tax\", \"ptratio\", \"medv\"]\n",
    "feature_names = [\"crim\", \"zn\", \"indus\", \"nox\", \"rm\",\n",
    "            \"age\", \"dis\", \"tax\", \"ptratio\"]\n",
    "\n",
    "train_data = pd.read_csv(\"datasets/boston-housing/train.csv\", names=csv_column_names, skiprows=1, skipinitialspace=True)\n",
    "test_data = pd.read_csv(\"datasets/boston-housing/test.csv\", names=csv_column_names, skiprows=1, skipinitialspace=True)\n",
    "predict_data = pd.read_csv(\"datasets/boston-housing/predict.csv\", names=csv_column_names, skiprows=1, skipinitialspace=True)"
   ]
  },
  {
   "cell_type": "code",
   "execution_count": 3,
   "metadata": {},
   "outputs": [
    {
     "name": "stdout",
     "output_type": "stream",
     "text": [
      "INFO:tensorflow:Using default config.\n",
      "WARNING:tensorflow:Using temporary folder as model directory: /var/folders/55/qkrngbr949x1jzs0c0dt70wc0000gn/T/tmpfhAGPg\n",
      "INFO:tensorflow:Using config: {'_save_checkpoints_secs': 600, '_session_config': None, '_keep_checkpoint_max': 5, '_task_type': 'worker', '_train_distribute': None, '_is_chief': True, '_cluster_spec': <tensorflow.python.training.server_lib.ClusterSpec object at 0x102a07850>, '_evaluation_master': '', '_save_checkpoints_steps': None, '_keep_checkpoint_every_n_hours': 10000, '_service': None, '_num_ps_replicas': 0, '_tf_random_seed': None, '_master': '', '_num_worker_replicas': 1, '_task_id': 0, '_log_step_count_steps': 100, '_model_dir': '/var/folders/55/qkrngbr949x1jzs0c0dt70wc0000gn/T/tmpfhAGPg', '_global_id_in_cluster': 0, '_save_summary_steps': 100}\n"
     ]
    }
   ],
   "source": [
    "feature_columns = [\n",
    "    tf.feature_column.numeric_column(feature) for feature in feature_names\n",
    "]\n",
    "    \n",
    "estimator = tf.estimator.DNNRegressor(hidden_units=[10, 10], feature_columns=feature_columns)"
   ]
  },
  {
   "cell_type": "code",
   "execution_count": 4,
   "metadata": {},
   "outputs": [
    {
     "name": "stdout",
     "output_type": "stream",
     "text": [
      "INFO:tensorflow:Calling model_fn.\n",
      "INFO:tensorflow:Done calling model_fn.\n",
      "INFO:tensorflow:Create CheckpointSaverHook.\n",
      "INFO:tensorflow:Graph was finalized.\n",
      "INFO:tensorflow:Running local_init_op.\n",
      "INFO:tensorflow:Done running local_init_op.\n",
      "INFO:tensorflow:Saving checkpoints for 1 into /var/folders/55/qkrngbr949x1jzs0c0dt70wc0000gn/T/tmpfhAGPg/model.ckpt.\n",
      "INFO:tensorflow:loss = 11108682.0, step = 1\n",
      "INFO:tensorflow:global_step/sec: 419.169\n",
      "INFO:tensorflow:loss = 11826.568, step = 101 (0.240 sec)\n",
      "INFO:tensorflow:global_step/sec: 575.288\n",
      "INFO:tensorflow:loss = 9481.3955, step = 201 (0.174 sec)\n",
      "INFO:tensorflow:global_step/sec: 560.243\n",
      "INFO:tensorflow:loss = 10721.896, step = 301 (0.178 sec)\n",
      "INFO:tensorflow:global_step/sec: 551.648\n",
      "INFO:tensorflow:loss = 8160.797, step = 401 (0.181 sec)\n",
      "INFO:tensorflow:global_step/sec: 559.255\n",
      "INFO:tensorflow:loss = 12716.093, step = 501 (0.179 sec)\n",
      "INFO:tensorflow:global_step/sec: 559.018\n",
      "INFO:tensorflow:loss = 9685.838, step = 601 (0.179 sec)\n",
      "INFO:tensorflow:global_step/sec: 548.243\n",
      "INFO:tensorflow:loss = 6922.7935, step = 701 (0.183 sec)\n",
      "INFO:tensorflow:global_step/sec: 562.819\n",
      "INFO:tensorflow:loss = 12394.217, step = 801 (0.178 sec)\n",
      "INFO:tensorflow:global_step/sec: 553.774\n",
      "INFO:tensorflow:loss = 8705.68, step = 901 (0.180 sec)\n",
      "INFO:tensorflow:global_step/sec: 542.879\n",
      "INFO:tensorflow:loss = 6911.0654, step = 1001 (0.184 sec)\n",
      "INFO:tensorflow:global_step/sec: 560.25\n",
      "INFO:tensorflow:loss = 8924.469, step = 1101 (0.178 sec)\n",
      "INFO:tensorflow:global_step/sec: 574.471\n",
      "INFO:tensorflow:loss = 8539.537, step = 1201 (0.174 sec)\n",
      "INFO:tensorflow:global_step/sec: 568.577\n",
      "INFO:tensorflow:loss = 7772.6475, step = 1301 (0.176 sec)\n",
      "INFO:tensorflow:global_step/sec: 566.296\n",
      "INFO:tensorflow:loss = 11954.396, step = 1401 (0.176 sec)\n",
      "INFO:tensorflow:global_step/sec: 559.094\n",
      "INFO:tensorflow:loss = 10109.549, step = 1501 (0.179 sec)\n",
      "INFO:tensorflow:global_step/sec: 531.27\n",
      "INFO:tensorflow:loss = 9640.389, step = 1601 (0.188 sec)\n",
      "INFO:tensorflow:global_step/sec: 550.24\n",
      "INFO:tensorflow:loss = 5594.08, step = 1701 (0.182 sec)\n",
      "INFO:tensorflow:global_step/sec: 390.891\n",
      "INFO:tensorflow:loss = 10505.737, step = 1801 (0.256 sec)\n",
      "INFO:tensorflow:global_step/sec: 459.821\n",
      "INFO:tensorflow:loss = 8929.39, step = 1901 (0.217 sec)\n",
      "INFO:tensorflow:global_step/sec: 449.61\n",
      "INFO:tensorflow:loss = 9806.949, step = 2001 (0.223 sec)\n",
      "INFO:tensorflow:global_step/sec: 539.771\n",
      "INFO:tensorflow:loss = 8472.577, step = 2101 (0.184 sec)\n",
      "INFO:tensorflow:global_step/sec: 549.483\n",
      "INFO:tensorflow:loss = 8616.525, step = 2201 (0.182 sec)\n",
      "INFO:tensorflow:global_step/sec: 445.903\n",
      "INFO:tensorflow:loss = 9147.006, step = 2301 (0.225 sec)\n",
      "INFO:tensorflow:global_step/sec: 452.456\n",
      "INFO:tensorflow:loss = 8595.621, step = 2401 (0.221 sec)\n",
      "INFO:tensorflow:global_step/sec: 478.139\n",
      "INFO:tensorflow:loss = 8761.6, step = 2501 (0.209 sec)\n",
      "INFO:tensorflow:global_step/sec: 497.884\n",
      "INFO:tensorflow:loss = 7273.17, step = 2601 (0.201 sec)\n",
      "INFO:tensorflow:global_step/sec: 525.478\n",
      "INFO:tensorflow:loss = 9520.104, step = 2701 (0.190 sec)\n",
      "INFO:tensorflow:global_step/sec: 526.759\n",
      "INFO:tensorflow:loss = 9325.967, step = 2801 (0.190 sec)\n",
      "INFO:tensorflow:global_step/sec: 418.838\n",
      "INFO:tensorflow:loss = 7219.137, step = 2901 (0.239 sec)\n",
      "INFO:tensorflow:global_step/sec: 461.687\n",
      "INFO:tensorflow:loss = 6850.8115, step = 3001 (0.217 sec)\n",
      "INFO:tensorflow:global_step/sec: 493.622\n",
      "INFO:tensorflow:loss = 6803.3115, step = 3101 (0.202 sec)\n",
      "INFO:tensorflow:global_step/sec: 504.773\n",
      "INFO:tensorflow:loss = 5654.574, step = 3201 (0.198 sec)\n",
      "INFO:tensorflow:global_step/sec: 545.911\n",
      "INFO:tensorflow:loss = 9486.057, step = 3301 (0.183 sec)\n",
      "INFO:tensorflow:global_step/sec: 544.82\n",
      "INFO:tensorflow:loss = 5500.375, step = 3401 (0.184 sec)\n",
      "INFO:tensorflow:global_step/sec: 526.103\n",
      "INFO:tensorflow:loss = 6895.621, step = 3501 (0.190 sec)\n",
      "INFO:tensorflow:global_step/sec: 530.814\n",
      "INFO:tensorflow:loss = 6972.7686, step = 3601 (0.188 sec)\n",
      "INFO:tensorflow:global_step/sec: 563.669\n",
      "INFO:tensorflow:loss = 6066.4287, step = 3701 (0.177 sec)\n",
      "INFO:tensorflow:global_step/sec: 514.216\n",
      "INFO:tensorflow:loss = 7492.288, step = 3801 (0.195 sec)\n",
      "INFO:tensorflow:global_step/sec: 447.349\n",
      "INFO:tensorflow:loss = 5652.6543, step = 3901 (0.223 sec)\n",
      "INFO:tensorflow:global_step/sec: 502.788\n",
      "INFO:tensorflow:loss = 7550.5615, step = 4001 (0.198 sec)\n",
      "INFO:tensorflow:global_step/sec: 508.192\n",
      "INFO:tensorflow:loss = 8845.707, step = 4101 (0.197 sec)\n",
      "INFO:tensorflow:global_step/sec: 548.486\n",
      "INFO:tensorflow:loss = 7163.0244, step = 4201 (0.183 sec)\n",
      "INFO:tensorflow:global_step/sec: 563.707\n",
      "INFO:tensorflow:loss = 5955.0215, step = 4301 (0.177 sec)\n",
      "INFO:tensorflow:global_step/sec: 516.422\n",
      "INFO:tensorflow:loss = 5793.2324, step = 4401 (0.194 sec)\n",
      "INFO:tensorflow:global_step/sec: 389.328\n",
      "INFO:tensorflow:loss = 7117.13, step = 4501 (0.257 sec)\n",
      "INFO:tensorflow:global_step/sec: 540.745\n",
      "INFO:tensorflow:loss = 8237.566, step = 4601 (0.185 sec)\n",
      "INFO:tensorflow:global_step/sec: 375.912\n",
      "INFO:tensorflow:loss = 6321.064, step = 4701 (0.266 sec)\n",
      "INFO:tensorflow:global_step/sec: 537.638\n",
      "INFO:tensorflow:loss = 7453.128, step = 4801 (0.186 sec)\n",
      "INFO:tensorflow:global_step/sec: 545.908\n",
      "INFO:tensorflow:loss = 8356.94, step = 4901 (0.184 sec)\n",
      "INFO:tensorflow:Saving checkpoints for 5000 into /var/folders/55/qkrngbr949x1jzs0c0dt70wc0000gn/T/tmpfhAGPg/model.ckpt.\n",
      "INFO:tensorflow:Loss for final step: 7625.0444.\n"
     ]
    },
    {
     "data": {
      "text/plain": [
       "<tensorflow.python.estimator.canned.dnn.DNNRegressor at 0x118b62ed0>"
      ]
     },
     "execution_count": 4,
     "metadata": {},
     "output_type": "execute_result"
    }
   ],
   "source": [
    "# def input_fn(dataset, epochs=None, shuffle=False):\n",
    "#     return tf.estimator.inputs.pandas_input_fn(\n",
    "#         x=pd.DataFrame({ feature: dataset[feature].values for feature in feature_names }),\n",
    "#         y=pd.Series(dataset[csv_label_name].values),\n",
    "#         num_epochs=epochs,\n",
    "#         shuffle=shuffle\n",
    "#     )\n",
    "\n",
    "def input_fn(dataset, shuffle=0, batch=128, repeat=False):\n",
    "    data_set = tf.data.Dataset.from_tensor_slices((dict(dataset), dataset[csv_label_name].values))\n",
    "    if shuffle > 0:\n",
    "        data_set = data_set.shuffle(shuffle)\n",
    "    if repeat:\n",
    "        data_set = data_set.repeat() # Repeat forever\n",
    "    return (data_set.batch(batch).make_one_shot_iterator().get_next())\n",
    "\n",
    "def input_fn_train():\n",
    "    return input_fn(train_data, repeat=True, shuffle=1000)\n",
    "\n",
    "def input_fn_test():\n",
    "    return input_fn(test_data, batch=1)\n",
    "\n",
    "def input_fn_predict():\n",
    "    return input_fn(predict_data, batch=1)\n",
    "\n",
    "estimator.train(input_fn=input_fn_train, steps=5000)"
   ]
  },
  {
   "cell_type": "code",
   "execution_count": 5,
   "metadata": {},
   "outputs": [
    {
     "name": "stdout",
     "output_type": "stream",
     "text": [
      "INFO:tensorflow:Calling model_fn.\n",
      "INFO:tensorflow:Done calling model_fn.\n",
      "INFO:tensorflow:Starting evaluation at 2018-04-23-23:05:21\n",
      "INFO:tensorflow:Graph was finalized.\n",
      "INFO:tensorflow:Restoring parameters from /var/folders/55/qkrngbr949x1jzs0c0dt70wc0000gn/T/tmpfhAGPg/model.ckpt-5000\n",
      "INFO:tensorflow:Running local_init_op.\n",
      "INFO:tensorflow:Done running local_init_op.\n",
      "INFO:tensorflow:Finished evaluation at 2018-04-23-23:05:21\n",
      "INFO:tensorflow:Saving dict for global step 5000: average_loss = 27.562271, global_step = 5000, loss = 27.562271\n",
      "Loss: 27.562271\n"
     ]
    }
   ],
   "source": [
    "evaluation = estimator.evaluate(input_fn=input_fn_test)\n",
    "loss_score = evaluation[\"loss\"]\n",
    "print(\"Loss: {0:f}\".format(loss_score))"
   ]
  },
  {
   "cell_type": "code",
   "execution_count": 6,
   "metadata": {},
   "outputs": [
    {
     "name": "stdout",
     "output_type": "stream",
     "text": [
      "INFO:tensorflow:Calling model_fn.\n",
      "INFO:tensorflow:Done calling model_fn.\n",
      "INFO:tensorflow:Graph was finalized.\n",
      "INFO:tensorflow:Restoring parameters from /var/folders/55/qkrngbr949x1jzs0c0dt70wc0000gn/T/tmpfhAGPg/model.ckpt-5000\n",
      "INFO:tensorflow:Running local_init_op.\n",
      "INFO:tensorflow:Done running local_init_op.\n",
      "Predictions: [array([31.348598], dtype=float32), array([17.069601], dtype=float32), array([26.046022], dtype=float32), array([31.226858], dtype=float32), array([15.401953], dtype=float32), array([19.919788], dtype=float32)]\n"
     ]
    }
   ],
   "source": [
    "import itertools\n",
    "predictions = estimator.predict(input_fn=input_fn_predict)\n",
    "predictions = list(p[\"predictions\"] for p in itertools.islice(predictions, 6))\n",
    "print(\"Predictions: {}\".format(str(predictions)))"
   ]
  }
 ],
 "metadata": {
  "kernelspec": {
   "display_name": "Python 3",
   "language": "python",
   "name": "python3"
  },
  "language_info": {
   "codemirror_mode": {
    "name": "ipython",
    "version": 2
   },
   "file_extension": ".py",
   "mimetype": "text/x-python",
   "name": "python",
   "nbconvert_exporter": "python",
   "pygments_lexer": "ipython2",
   "version": "2.7.13"
  }
 },
 "nbformat": 4,
 "nbformat_minor": 2
}
