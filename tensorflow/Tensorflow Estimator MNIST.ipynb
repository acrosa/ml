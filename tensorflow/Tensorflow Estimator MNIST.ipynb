{
 "cells": [
  {
   "cell_type": "code",
   "execution_count": 2,
   "metadata": {},
   "outputs": [],
   "source": [
    "import tensorflow as tf\n",
    "import numpy as np"
   ]
  },
  {
   "cell_type": "code",
   "execution_count": 5,
   "metadata": {},
   "outputs": [
    {
     "name": "stdout",
     "output_type": "stream",
     "text": [
      "Extracting MNIST_data/train-images-idx3-ubyte.gz\n",
      "Extracting MNIST_data/train-labels-idx1-ubyte.gz\n",
      "Extracting MNIST_data/t10k-images-idx3-ubyte.gz\n",
      "Extracting MNIST_data/t10k-labels-idx1-ubyte.gz\n"
     ]
    }
   ],
   "source": [
    "# load mnist\n",
    "from tensorflow.examples.tutorials.mnist import input_data\n",
    "mnist = input_data.read_data_sets(\"MNIST_data/\")"
   ]
  },
  {
   "cell_type": "code",
   "execution_count": 6,
   "metadata": {},
   "outputs": [
    {
     "name": "stdout",
     "output_type": "stream",
     "text": [
      "images shape: (55000, 784)\n"
     ]
    },
    {
     "data": {
      "text/plain": [
       "array([[0., 0., 0., ..., 0., 0., 0.],\n",
       "       [0., 0., 0., ..., 0., 0., 0.],\n",
       "       [0., 0., 0., ..., 0., 0., 0.],\n",
       "       ...,\n",
       "       [0., 0., 0., ..., 0., 0., 0.],\n",
       "       [0., 0., 0., ..., 0., 0., 0.],\n",
       "       [0., 0., 0., ..., 0., 0., 0.]], dtype=float32)"
      ]
     },
     "execution_count": 6,
     "metadata": {},
     "output_type": "execute_result"
    }
   ],
   "source": [
    "# image data (feature)\n",
    "print(\"images shape: \"+ str(mnist.train.images.shape))\n",
    "mnist.train.images"
   ]
  },
  {
   "cell_type": "code",
   "execution_count": 8,
   "metadata": {},
   "outputs": [
    {
     "data": {
      "text/plain": [
       "array([7, 3, 4, ..., 5, 6, 8], dtype=uint8)"
      ]
     },
     "execution_count": 8,
     "metadata": {},
     "output_type": "execute_result"
    }
   ],
   "source": [
    "# labels (note they are not one hot encoded)\n",
    "mnist.train.labels"
   ]
  },
  {
   "cell_type": "code",
   "execution_count": 9,
   "metadata": {
    "collapsed": true
   },
   "outputs": [],
   "source": [
    "# features (just one one dimension array of grayscale floats from 28x28 image, 784)\n",
    "features = [\n",
    "    tf.feature_column.numeric_column(\"x\", shape=[mnist.train.images.shape[1]]) # shape is (784)\n",
    "]"
   ]
  },
  {
   "cell_type": "code",
   "execution_count": 10,
   "metadata": {},
   "outputs": [
    {
     "name": "stdout",
     "output_type": "stream",
     "text": [
      "INFO:tensorflow:Using default config.\n",
      "WARNING:tensorflow:Using temporary folder as model directory: /var/folders/55/qkrngbr949x1jzs0c0dt70wc0000gn/T/tmpowm1gmty\n",
      "INFO:tensorflow:Using config: {'_save_summary_steps': 100, '_global_id_in_cluster': 0, '_is_chief': True, '_num_ps_replicas': 0, '_session_config': None, '_keep_checkpoint_max': 5, '_task_id': 0, '_service': None, '_save_checkpoints_secs': 600, '_evaluation_master': '', '_save_checkpoints_steps': None, '_model_dir': '/var/folders/55/qkrngbr949x1jzs0c0dt70wc0000gn/T/tmpowm1gmty', '_tf_random_seed': None, '_log_step_count_steps': 100, '_num_worker_replicas': 1, '_cluster_spec': <tensorflow.python.training.server_lib.ClusterSpec object at 0x11a361e48>, '_master': '', '_keep_checkpoint_every_n_hours': 10000, '_task_type': 'worker'}\n"
     ]
    },
    {
     "data": {
      "text/plain": [
       "<tensorflow.python.estimator.canned.dnn.DNNClassifier at 0x102e1b6a0>"
      ]
     },
     "execution_count": 10,
     "metadata": {},
     "output_type": "execute_result"
    }
   ],
   "source": [
    "# number of classes (10 digits)\n",
    "n_classes = len(np.unique(mnist.train.labels))\n",
    "\n",
    "# build deep neural network classifier\n",
    "# rule-of-thumb method for the number of hidden_units (hidden layers) is:\n",
    "#   - The number of hidden neurons should be between the size of the input layer and the size of the output layer. (784 & 10 in this data set)\n",
    "#   - The number of hidden neurons should be 2/3 the size of the input layer, plus the size of the output layer. (784*2/3 + 10 ~= 532 in this data set)\n",
    "#   - The number of hidden neurons should be less than twice the size of the input layer. (532 < 784*2)\n",
    "estimator = tf.estimator.DNNClassifier(feature_columns=features, n_classes=n_classes, hidden_units=[532])\n",
    "estimator"
   ]
  },
  {
   "cell_type": "code",
   "execution_count": 11,
   "metadata": {
    "collapsed": true
   },
   "outputs": [],
   "source": [
    "# build the train function using the estimator helper function builder:\n",
    "train_input_fn = tf.estimator.inputs.numpy_input_fn(\n",
    " x={\"x\": mnist.train.images},\n",
    " y=mnist.train.labels.astype(np.int32),\n",
    " batch_size=50,\n",
    " shuffle=True\n",
    ")"
   ]
  },
  {
   "cell_type": "code",
   "execution_count": 12,
   "metadata": {},
   "outputs": [
    {
     "name": "stdout",
     "output_type": "stream",
     "text": [
      "INFO:tensorflow:Calling model_fn.\n",
      "INFO:tensorflow:Done calling model_fn.\n",
      "INFO:tensorflow:Create CheckpointSaverHook.\n",
      "INFO:tensorflow:Graph was finalized.\n",
      "INFO:tensorflow:Running local_init_op.\n",
      "INFO:tensorflow:Done running local_init_op.\n",
      "INFO:tensorflow:Saving checkpoints for 1 into /var/folders/55/qkrngbr949x1jzs0c0dt70wc0000gn/T/tmpowm1gmty/model.ckpt.\n",
      "INFO:tensorflow:step = 1, loss = 116.02681\n",
      "INFO:tensorflow:global_step/sec: 223.43\n",
      "INFO:tensorflow:step = 101, loss = 15.334814 (0.450 sec)\n",
      "INFO:tensorflow:Saving checkpoints for 200 into /var/folders/55/qkrngbr949x1jzs0c0dt70wc0000gn/T/tmpowm1gmty/model.ckpt.\n",
      "INFO:tensorflow:Loss for final step: 6.8630238.\n"
     ]
    },
    {
     "data": {
      "text/plain": [
       "<tensorflow.python.estimator.canned.dnn.DNNClassifier at 0x102e1b6a0>"
      ]
     },
     "execution_count": 12,
     "metadata": {},
     "output_type": "execute_result"
    }
   ],
   "source": [
    "# train!\n",
    "estimator.train(input_fn=train_input_fn, steps=200)"
   ]
  },
  {
   "cell_type": "code",
   "execution_count": 13,
   "metadata": {
    "collapsed": true
   },
   "outputs": [],
   "source": [
    "# build the test function using the estimator helper function builder:\n",
    "test_input_fn = tf.estimator.inputs.numpy_input_fn(\n",
    " x={\"x\": mnist.test.images},\n",
    " y=mnist.test.labels.astype(np.int32),\n",
    " num_epochs=1,\n",
    " shuffle=False\n",
    ")"
   ]
  },
  {
   "cell_type": "code",
   "execution_count": 14,
   "metadata": {},
   "outputs": [
    {
     "name": "stdout",
     "output_type": "stream",
     "text": [
      "INFO:tensorflow:Calling model_fn.\n",
      "INFO:tensorflow:Done calling model_fn.\n",
      "INFO:tensorflow:Starting evaluation at 2018-04-19-17:32:31\n",
      "INFO:tensorflow:Graph was finalized.\n",
      "INFO:tensorflow:Restoring parameters from /var/folders/55/qkrngbr949x1jzs0c0dt70wc0000gn/T/tmpowm1gmty/model.ckpt-200\n",
      "INFO:tensorflow:Running local_init_op.\n",
      "INFO:tensorflow:Done running local_init_op.\n",
      "INFO:tensorflow:Finished evaluation at 2018-04-19-17:32:32\n",
      "INFO:tensorflow:Saving dict for global step 200: accuracy = 0.9368, average_loss = 0.21283582, global_step = 200, loss = 26.941242\n",
      "\n",
      "Test Accuracy: 93.680000%\n",
      "\n"
     ]
    }
   ],
   "source": [
    "# evaluate accuracy of the trained model\n",
    "accuracy_score = estimator.evaluate(input_fn=test_input_fn)[\"accuracy\"]\n",
    "print(\"\\nTest Accuracy: {0:f}%\\n\".format(accuracy_score*100))"
   ]
  },
  {
   "cell_type": "code",
   "execution_count": 15,
   "metadata": {},
   "outputs": [
    {
     "name": "stdout",
     "output_type": "stream",
     "text": [
      "INFO:tensorflow:Calling model_fn.\n",
      "INFO:tensorflow:Done calling model_fn.\n",
      "INFO:tensorflow:Graph was finalized.\n",
      "INFO:tensorflow:Restoring parameters from /var/folders/55/qkrngbr949x1jzs0c0dt70wc0000gn/T/tmpowm1gmty/model.ckpt-200\n",
      "INFO:tensorflow:Running local_init_op.\n",
      "INFO:tensorflow:Done running local_init_op.\n",
      "Predicted: [8]\n",
      "Actual label: 8\n"
     ]
    }
   ],
   "source": [
    "# pick a random element in the validation set and see if we predict it correctly:\n",
    "example_index = np.random.randint(len(mnist.validation.images))\n",
    "example_image = mnist.validation.images[example_index].reshape(1, 784)\n",
    "\n",
    "# predict input function\n",
    "predict_input_fn = tf.estimator.inputs.numpy_input_fn(\n",
    "      x={\"x\": np.array(example_image)},\n",
    "      y=None, # we are predicting y is unknown\n",
    "      shuffle=False)\n",
    "\n",
    "# predict!\n",
    "predictions = estimator.predict(input_fn=predict_input_fn)\n",
    "\n",
    "# print predictions and compare:\n",
    "for prediction in list(predictions):\n",
    "  print(\"Predicted: \"+ str(prediction['class_ids']))\n",
    "\n",
    "print(\"Actual label: \"+ str(mnist.validation.labels[example_index]))"
   ]
  }
 ],
 "metadata": {
  "kernelspec": {
   "display_name": "Python 3",
   "language": "python",
   "name": "python3"
  },
  "language_info": {
   "codemirror_mode": {
    "name": "ipython",
    "version": 3
   },
   "file_extension": ".py",
   "mimetype": "text/x-python",
   "name": "python",
   "nbconvert_exporter": "python",
   "pygments_lexer": "ipython3",
   "version": "3.5.4"
  }
 },
 "nbformat": 4,
 "nbformat_minor": 2
}
