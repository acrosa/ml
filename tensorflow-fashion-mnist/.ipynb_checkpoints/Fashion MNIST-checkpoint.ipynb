{
 "cells": [
  {
   "cell_type": "code",
   "execution_count": 1,
   "metadata": {},
   "outputs": [
    {
     "name": "stderr",
     "output_type": "stream",
     "text": [
      "Using TensorFlow backend.\n"
     ]
    }
   ],
   "source": [
    "import tensorflow as tf\n",
    "from keras.datasets import fashion_mnist\n",
    "import os"
   ]
  },
  {
   "cell_type": "code",
   "execution_count": 2,
   "metadata": {
    "collapsed": true
   },
   "outputs": [],
   "source": [
    "batch_size = 32 # You can try 64 or 128 if you'd like to\n",
    "num_classes = 10\n",
    "epochs = 100 # loss function value will be stabilized after 93rd epoch\n",
    "# To save the model:\n",
    "save_dir = os.path.join(os.getcwd(), 'saved_models')\n",
    "model_name = 'keras_fashion_mnist_trained_model.h5'"
   ]
  },
  {
   "cell_type": "code",
   "execution_count": 3,
   "metadata": {},
   "outputs": [
    {
     "name": "stdout",
     "output_type": "stream",
     "text": [
      "Downloading data from http://fashion-mnist.s3-website.eu-central-1.amazonaws.com/train-labels-idx1-ubyte.gz\n",
      "32768/29515 [=================================] - 1s 39us/step\n",
      "Downloading data from http://fashion-mnist.s3-website.eu-central-1.amazonaws.com/train-images-idx3-ubyte.gz\n",
      "26427392/26421880 [==============================] - 74s 3us/step\n",
      "Downloading data from http://fashion-mnist.s3-website.eu-central-1.amazonaws.com/t10k-labels-idx1-ubyte.gz\n",
      "8192/5148 [===============================================] - 0s 0us/step\n",
      "Downloading data from http://fashion-mnist.s3-website.eu-central-1.amazonaws.com/t10k-images-idx3-ubyte.gz\n",
      "4423680/4422102 [==============================] - 12s 3us/step\n"
     ]
    }
   ],
   "source": [
    "(x_train, y_train), (x_test, y_test) = fashion_mnist.load_data()"
   ]
  },
  {
   "cell_type": "code",
   "execution_count": 4,
   "metadata": {
    "collapsed": true
   },
   "outputs": [],
   "source": [
    "# We need to reshape the data since the images in the dataset are grayscaled.\n",
    "x_train = x_train.reshape(x_train.shape[0], x_train.shape[1], x_train.shape[2], 1)\n",
    "x_test = x_test.reshape(x_test.shape[0], x_test.shape[1], x_test.shape[2], 1)\n",
    "input_shape = (28, 28, 1)"
   ]
  },
  {
   "cell_type": "code",
   "execution_count": 5,
   "metadata": {
    "collapsed": true
   },
   "outputs": [],
   "source": [
    "# We also need to convert the labels in the dataset into categorical matrix structure from 1-dim numpy array structure.\n",
    "y_train = tf.keras.utils.to_categorical(y_train, num_classes)\n",
    "y_test = tf.keras.utils.to_categorical(y_test, num_classes)"
   ]
  },
  {
   "cell_type": "code",
   "execution_count": 6,
   "metadata": {
    "collapsed": true
   },
   "outputs": [],
   "source": [
    "# model\n",
    "model = tf.keras.models.Sequential()\n",
    "model.add(tf.keras.layers.Conv2D(32, (3, 3), padding='same', kernel_regularizer=tf.keras.regularizers.l2(0.01), input_shape=input_shape))\n",
    "model.add(tf.keras.layers.Activation('relu'))\n",
    "model.add(tf.keras.layers.Conv2D(32, (5, 5), kernel_regularizer=tf.keras.regularizers.l2(0.01)))\n",
    "model.add(tf.keras.layers.Activation('relu'))\n",
    "model.add(tf.keras.layers.MaxPooling2D(pool_size=(2, 2)))\n",
    "model.add(tf.keras.layers.Dropout(0.25))\n",
    "\n",
    "model.add(tf.keras.layers.Conv2D(64, (3, 3), padding='same', kernel_regularizer=tf.keras.regularizers.l2(0.01)))\n",
    "model.add(tf.keras.layers.Activation('relu'))\n",
    "model.add(tf.keras.layers.Conv2D(64, (5, 5), kernel_regularizer=tf.keras.regularizers.l2(0.01)))\n",
    "model.add(tf.keras.layers.Activation('relu'))\n",
    "model.add(tf.keras.layers.MaxPooling2D(pool_size=(2, 2)))\n",
    "model.add(tf.keras.layers.Dropout(0.25))\n",
    "\n",
    "model.add(tf.keras.layers.Flatten())\n",
    "model.add(tf.keras.layers.Dense(512))\n",
    "model.add(tf.keras.layers.Activation('relu'))\n",
    "model.add(tf.keras.layers.Dropout(0.5))\n",
    "model.add(tf.keras.layers.Dense(num_classes))\n",
    "model.add(tf.keras.layers.Activation('softmax'))"
   ]
  },
  {
   "cell_type": "code",
   "execution_count": 7,
   "metadata": {},
   "outputs": [
    {
     "name": "stdout",
     "output_type": "stream",
     "text": [
      "_________________________________________________________________\n",
      "Layer (type)                 Output Shape              Param #   \n",
      "=================================================================\n",
      "conv2d_1 (Conv2D)            (None, 28, 28, 32)        320       \n",
      "_________________________________________________________________\n",
      "activation_1 (Activation)    (None, 28, 28, 32)        0         \n",
      "_________________________________________________________________\n",
      "conv2d_2 (Conv2D)            (None, 24, 24, 32)        25632     \n",
      "_________________________________________________________________\n",
      "activation_2 (Activation)    (None, 24, 24, 32)        0         \n",
      "_________________________________________________________________\n",
      "max_pooling2d_1 (MaxPooling2 (None, 12, 12, 32)        0         \n",
      "_________________________________________________________________\n",
      "dropout_1 (Dropout)          (None, 12, 12, 32)        0         \n",
      "_________________________________________________________________\n",
      "conv2d_3 (Conv2D)            (None, 12, 12, 64)        18496     \n",
      "_________________________________________________________________\n",
      "activation_3 (Activation)    (None, 12, 12, 64)        0         \n",
      "_________________________________________________________________\n",
      "conv2d_4 (Conv2D)            (None, 8, 8, 64)          102464    \n",
      "_________________________________________________________________\n",
      "activation_4 (Activation)    (None, 8, 8, 64)          0         \n",
      "_________________________________________________________________\n",
      "max_pooling2d_2 (MaxPooling2 (None, 4, 4, 64)          0         \n",
      "_________________________________________________________________\n",
      "dropout_2 (Dropout)          (None, 4, 4, 64)          0         \n",
      "_________________________________________________________________\n",
      "flatten_1 (Flatten)          (None, 1024)              0         \n",
      "_________________________________________________________________\n",
      "dense_1 (Dense)              (None, 512)               524800    \n",
      "_________________________________________________________________\n",
      "activation_5 (Activation)    (None, 512)               0         \n",
      "_________________________________________________________________\n",
      "dropout_3 (Dropout)          (None, 512)               0         \n",
      "_________________________________________________________________\n",
      "dense_2 (Dense)              (None, 10)                5130      \n",
      "_________________________________________________________________\n",
      "activation_6 (Activation)    (None, 10)                0         \n",
      "=================================================================\n",
      "Total params: 676,842\n",
      "Trainable params: 676,842\n",
      "Non-trainable params: 0\n",
      "_________________________________________________________________\n"
     ]
    }
   ],
   "source": [
    "model.summary()"
   ]
  },
  {
   "cell_type": "code",
   "execution_count": 8,
   "metadata": {
    "collapsed": true
   },
   "outputs": [],
   "source": [
    "opt = tf.keras.optimizers.Adam(lr=0.001, beta_1=0.9, beta_2=0.999, epsilon=None, decay=0.0, amsgrad=False)\n",
    "\n",
    "# normalize\n",
    "x_train = x_train.astype('float32')\n",
    "x_test = x_test.astype('float32')\n",
    "x_train /= 255\n",
    "x_test /= 255"
   ]
  },
  {
   "cell_type": "code",
   "execution_count": null,
   "metadata": {
    "collapsed": true
   },
   "outputs": [],
   "source": [
    "model.compile(loss='categorical_crossentropy',\n",
    "              optimizer=opt,\n",
    "              metrics=['accuracy'])"
   ]
  },
  {
   "cell_type": "code",
   "execution_count": null,
   "metadata": {},
   "outputs": [
    {
     "name": "stdout",
     "output_type": "stream",
     "text": [
      "Train on 60000 samples, validate on 10000 samples\n",
      "Epoch 1/100\n",
      "60000/60000 [==============================] - 15s 253us/step - loss: 0.7530 - acc: 0.7791 - val_loss: 0.5594 - val_acc: 0.8298\n",
      "Epoch 2/100\n",
      "60000/60000 [==============================] - 12s 201us/step - loss: 0.5332 - acc: 0.8389 - val_loss: 0.4710 - val_acc: 0.8609\n",
      "Epoch 3/100\n",
      "60000/60000 [==============================] - 11s 184us/step - loss: 0.4878 - acc: 0.8517 - val_loss: 0.4503 - val_acc: 0.8664\n",
      "Epoch 4/100\n",
      "60000/60000 [==============================] - 12s 198us/step - loss: 0.4645 - acc: 0.8585 - val_loss: 0.4255 - val_acc: 0.8701\n",
      "Epoch 5/100\n",
      "60000/60000 [==============================] - 12s 194us/step - loss: 0.4508 - acc: 0.8613 - val_loss: 0.4203 - val_acc: 0.8739\n",
      "Epoch 6/100\n",
      "60000/60000 [==============================] - 12s 198us/step - loss: 0.4367 - acc: 0.8656 - val_loss: 0.3989 - val_acc: 0.8826\n",
      "Epoch 7/100\n",
      "60000/60000 [==============================] - 12s 208us/step - loss: 0.4261 - acc: 0.8699 - val_loss: 0.3924 - val_acc: 0.8807\n",
      "Epoch 8/100\n",
      "60000/60000 [==============================] - 12s 202us/step - loss: 0.4183 - acc: 0.8718 - val_loss: 0.3885 - val_acc: 0.8810\n",
      "Epoch 9/100\n",
      "60000/60000 [==============================] - 11s 191us/step - loss: 0.4124 - acc: 0.8749 - val_loss: 0.3822 - val_acc: 0.8844\n",
      "Epoch 10/100\n",
      "60000/60000 [==============================] - 11s 187us/step - loss: 0.4065 - acc: 0.8768 - val_loss: 0.3877 - val_acc: 0.8795\n",
      "Epoch 11/100\n",
      "60000/60000 [==============================] - 12s 195us/step - loss: 0.4013 - acc: 0.8772 - val_loss: 0.3810 - val_acc: 0.8847\n",
      "Epoch 12/100\n",
      "60000/60000 [==============================] - 11s 190us/step - loss: 0.3956 - acc: 0.8812 - val_loss: 0.3744 - val_acc: 0.8870\n",
      "Epoch 13/100\n",
      "60000/60000 [==============================] - 11s 179us/step - loss: 0.3934 - acc: 0.8802 - val_loss: 0.3836 - val_acc: 0.8834\n",
      "Epoch 14/100\n",
      "60000/60000 [==============================] - 10s 168us/step - loss: 0.3921 - acc: 0.8820 - val_loss: 0.3728 - val_acc: 0.8899\n",
      "Epoch 15/100\n",
      "60000/60000 [==============================] - 10s 172us/step - loss: 0.3867 - acc: 0.8832 - val_loss: 0.3814 - val_acc: 0.8835\n",
      "Epoch 16/100\n",
      "60000/60000 [==============================] - 11s 179us/step - loss: 0.3857 - acc: 0.8849 - val_loss: 0.3595 - val_acc: 0.8944\n",
      "Epoch 17/100\n",
      "60000/60000 [==============================] - 10s 167us/step - loss: 0.3807 - acc: 0.8872 - val_loss: 0.3698 - val_acc: 0.8900\n",
      "Epoch 18/100\n",
      "60000/60000 [==============================] - 10s 170us/step - loss: 0.3771 - acc: 0.8887 - val_loss: 0.3575 - val_acc: 0.8948\n",
      "Epoch 19/100\n",
      "60000/60000 [==============================] - 12s 194us/step - loss: 0.3793 - acc: 0.8876 - val_loss: 0.3578 - val_acc: 0.8964\n",
      "Epoch 20/100\n",
      "60000/60000 [==============================] - 12s 204us/step - loss: 0.3743 - acc: 0.8890 - val_loss: 0.3545 - val_acc: 0.8973\n",
      "Epoch 21/100\n",
      "60000/60000 [==============================] - 12s 202us/step - loss: 0.3690 - acc: 0.8908 - val_loss: 0.3652 - val_acc: 0.8886\n",
      "Epoch 22/100\n",
      "60000/60000 [==============================] - 13s 218us/step - loss: 0.3705 - acc: 0.8909 - val_loss: 0.3517 - val_acc: 0.8960\n",
      "Epoch 23/100\n",
      "60000/60000 [==============================] - 12s 195us/step - loss: 0.3688 - acc: 0.8909 - val_loss: 0.3526 - val_acc: 0.8974\n",
      "Epoch 24/100\n",
      "60000/60000 [==============================] - 12s 195us/step - loss: 0.3630 - acc: 0.8943 - val_loss: 0.3499 - val_acc: 0.8981\n",
      "Epoch 25/100\n",
      "60000/60000 [==============================] - 12s 195us/step - loss: 0.3676 - acc: 0.8927 - val_loss: 0.3606 - val_acc: 0.8924\n",
      "Epoch 26/100\n",
      "60000/60000 [==============================] - 12s 196us/step - loss: 0.3631 - acc: 0.8931 - val_loss: 0.3534 - val_acc: 0.8971\n",
      "Epoch 27/100\n",
      "60000/60000 [==============================] - 11s 178us/step - loss: 0.3617 - acc: 0.8932 - val_loss: 0.3440 - val_acc: 0.9013\n",
      "Epoch 28/100\n",
      "60000/60000 [==============================] - 11s 182us/step - loss: 0.3643 - acc: 0.8925 - val_loss: 0.3475 - val_acc: 0.8965\n",
      "Epoch 29/100\n",
      "60000/60000 [==============================] - 11s 191us/step - loss: 0.3612 - acc: 0.8929 - val_loss: 0.3522 - val_acc: 0.8980\n",
      "Epoch 30/100\n",
      "60000/60000 [==============================] - 11s 178us/step - loss: 0.3554 - acc: 0.8958 - val_loss: 0.3473 - val_acc: 0.8987\n",
      "Epoch 31/100\n",
      "60000/60000 [==============================] - 11s 182us/step - loss: 0.3569 - acc: 0.8957 - val_loss: 0.3657 - val_acc: 0.8917\n",
      "Epoch 32/100\n",
      "60000/60000 [==============================] - 11s 182us/step - loss: 0.3550 - acc: 0.8959 - val_loss: 0.3401 - val_acc: 0.9015\n",
      "Epoch 33/100\n",
      "60000/60000 [==============================] - 10s 167us/step - loss: 0.3553 - acc: 0.8963 - val_loss: 0.3441 - val_acc: 0.9025\n",
      "Epoch 34/100\n",
      "60000/60000 [==============================] - 12s 199us/step - loss: 0.3551 - acc: 0.8956 - val_loss: 0.3456 - val_acc: 0.8963\n",
      "Epoch 35/100\n",
      "60000/60000 [==============================] - 10s 165us/step - loss: 0.3549 - acc: 0.8962 - val_loss: 0.3412 - val_acc: 0.9015\n",
      "Epoch 36/100\n",
      "60000/60000 [==============================] - 11s 177us/step - loss: 0.3554 - acc: 0.8959 - val_loss: 0.3439 - val_acc: 0.9016\n",
      "Epoch 37/100\n",
      "60000/60000 [==============================] - 11s 184us/step - loss: 0.3522 - acc: 0.8968 - val_loss: 0.3549 - val_acc: 0.8983\n",
      "Epoch 38/100\n",
      "60000/60000 [==============================] - 12s 192us/step - loss: 0.3550 - acc: 0.8955 - val_loss: 0.3387 - val_acc: 0.9007\n",
      "Epoch 39/100\n",
      "60000/60000 [==============================] - 12s 193us/step - loss: 0.3497 - acc: 0.8968 - val_loss: 0.3341 - val_acc: 0.9049\n",
      "Epoch 40/100\n",
      "60000/60000 [==============================] - 12s 199us/step - loss: 0.3507 - acc: 0.8952 - val_loss: 0.3412 - val_acc: 0.8980\n",
      "Epoch 41/100\n",
      "60000/60000 [==============================] - 12s 192us/step - loss: 0.3502 - acc: 0.8971 - val_loss: 0.3354 - val_acc: 0.8998\n",
      "Epoch 42/100\n",
      "60000/60000 [==============================] - 10s 166us/step - loss: 0.3460 - acc: 0.8988 - val_loss: 0.3408 - val_acc: 0.8990\n",
      "Epoch 43/100\n",
      "60000/60000 [==============================] - 10s 168us/step - loss: 0.3452 - acc: 0.8992 - val_loss: 0.3383 - val_acc: 0.8999\n",
      "Epoch 44/100\n",
      "60000/60000 [==============================] - 10s 172us/step - loss: 0.3457 - acc: 0.8982 - val_loss: 0.3341 - val_acc: 0.9046\n",
      "Epoch 45/100\n",
      "60000/60000 [==============================] - 11s 180us/step - loss: 0.3452 - acc: 0.8996 - val_loss: 0.3392 - val_acc: 0.9007\n",
      "Epoch 46/100\n",
      "60000/60000 [==============================] - 11s 189us/step - loss: 0.3441 - acc: 0.9002 - val_loss: 0.3390 - val_acc: 0.9030\n",
      "Epoch 47/100\n",
      "60000/60000 [==============================] - 11s 187us/step - loss: 0.3461 - acc: 0.8987 - val_loss: 0.3323 - val_acc: 0.9039\n",
      "Epoch 48/100\n",
      "60000/60000 [==============================] - 11s 178us/step - loss: 0.3434 - acc: 0.8987 - val_loss: 0.3276 - val_acc: 0.9055\n",
      "Epoch 49/100\n",
      "60000/60000 [==============================] - 11s 184us/step - loss: 0.3464 - acc: 0.8993 - val_loss: 0.3346 - val_acc: 0.9043\n",
      "Epoch 50/100\n",
      "60000/60000 [==============================] - 11s 182us/step - loss: 0.3409 - acc: 0.9016 - val_loss: 0.3341 - val_acc: 0.9033\n",
      "Epoch 51/100\n",
      "60000/60000 [==============================] - 11s 183us/step - loss: 0.3424 - acc: 0.8998 - val_loss: 0.3328 - val_acc: 0.9038\n",
      "Epoch 52/100\n",
      "60000/60000 [==============================] - 11s 191us/step - loss: 0.3423 - acc: 0.9012 - val_loss: 0.3342 - val_acc: 0.9001\n",
      "Epoch 53/100\n",
      "60000/60000 [==============================] - 11s 191us/step - loss: 0.3386 - acc: 0.9009 - val_loss: 0.3403 - val_acc: 0.9001\n",
      "Epoch 54/100\n",
      "60000/60000 [==============================] - 10s 167us/step - loss: 0.3411 - acc: 0.9005 - val_loss: 0.3401 - val_acc: 0.9007\n",
      "Epoch 55/100\n",
      "60000/60000 [==============================] - 10s 169us/step - loss: 0.3417 - acc: 0.9001 - val_loss: 0.3380 - val_acc: 0.9001\n",
      "Epoch 56/100\n",
      "60000/60000 [==============================] - 10s 169us/step - loss: 0.3399 - acc: 0.8998 - val_loss: 0.3356 - val_acc: 0.9031\n",
      "Epoch 57/100\n",
      "60000/60000 [==============================] - 10s 168us/step - loss: 0.3385 - acc: 0.9021 - val_loss: 0.3476 - val_acc: 0.8995\n",
      "Epoch 58/100\n",
      "60000/60000 [==============================] - 10s 170us/step - loss: 0.3402 - acc: 0.9003 - val_loss: 0.3339 - val_acc: 0.9035\n"
     ]
    },
    {
     "name": "stdout",
     "output_type": "stream",
     "text": [
      "Epoch 59/100\n",
      "60000/60000 [==============================] - 11s 183us/step - loss: 0.3412 - acc: 0.9004 - val_loss: 0.3402 - val_acc: 0.9031\n",
      "Epoch 60/100\n",
      "60000/60000 [==============================] - 11s 190us/step - loss: 0.3382 - acc: 0.9020 - val_loss: 0.3300 - val_acc: 0.9045\n",
      "Epoch 61/100\n",
      "60000/60000 [==============================] - 11s 190us/step - loss: 0.3401 - acc: 0.9003 - val_loss: 0.3547 - val_acc: 0.8976\n",
      "Epoch 62/100\n",
      "60000/60000 [==============================] - 11s 191us/step - loss: 0.3370 - acc: 0.9015 - val_loss: 0.3315 - val_acc: 0.9053\n",
      "Epoch 63/100\n",
      "60000/60000 [==============================] - 11s 190us/step - loss: 0.3374 - acc: 0.9014 - val_loss: 0.3309 - val_acc: 0.9079\n",
      "Epoch 64/100\n",
      "60000/60000 [==============================] - 9s 157us/step - loss: 0.3354 - acc: 0.9022 - val_loss: 0.3266 - val_acc: 0.9031\n",
      "Epoch 65/100\n",
      "60000/60000 [==============================] - 12s 192us/step - loss: 0.3400 - acc: 0.9012 - val_loss: 0.3265 - val_acc: 0.9053\n",
      "Epoch 66/100\n",
      "60000/60000 [==============================] - 11s 186us/step - loss: 0.3383 - acc: 0.9027 - val_loss: 0.3366 - val_acc: 0.9036\n",
      "Epoch 67/100\n",
      "60000/60000 [==============================] - 11s 178us/step - loss: 0.3349 - acc: 0.9022 - val_loss: 0.3310 - val_acc: 0.9057\n",
      "Epoch 68/100\n",
      "60000/60000 [==============================] - 11s 176us/step - loss: 0.3345 - acc: 0.9036 - val_loss: 0.3432 - val_acc: 0.8990\n",
      "Epoch 69/100\n",
      "60000/60000 [==============================] - 11s 179us/step - loss: 0.3368 - acc: 0.9017 - val_loss: 0.3358 - val_acc: 0.9027\n",
      "Epoch 70/100\n",
      "60000/60000 [==============================] - 11s 186us/step - loss: 0.3362 - acc: 0.9017 - val_loss: 0.3341 - val_acc: 0.9046\n",
      "Epoch 71/100\n",
      "60000/60000 [==============================] - 10s 168us/step - loss: 0.3364 - acc: 0.9030 - val_loss: 0.3292 - val_acc: 0.9064\n",
      "Epoch 72/100\n",
      "60000/60000 [==============================] - 10s 162us/step - loss: 0.3365 - acc: 0.9028 - val_loss: 0.3280 - val_acc: 0.9051\n",
      "Epoch 73/100\n",
      "60000/60000 [==============================] - 10s 175us/step - loss: 0.3332 - acc: 0.9022 - val_loss: 0.3392 - val_acc: 0.8998\n",
      "Epoch 74/100\n",
      "60000/60000 [==============================] - 11s 175us/step - loss: 0.3330 - acc: 0.9039 - val_loss: 0.3375 - val_acc: 0.9046\n",
      "Epoch 75/100\n",
      "60000/60000 [==============================] - 10s 174us/step - loss: 0.3361 - acc: 0.9027 - val_loss: 0.3338 - val_acc: 0.9030\n",
      "Epoch 76/100\n",
      "60000/60000 [==============================] - 10s 174us/step - loss: 0.3345 - acc: 0.9029 - val_loss: 0.3320 - val_acc: 0.9045\n",
      "Epoch 77/100\n",
      "60000/60000 [==============================] - 10s 172us/step - loss: 0.3316 - acc: 0.9047 - val_loss: 0.3324 - val_acc: 0.9057\n",
      "Epoch 78/100\n",
      "60000/60000 [==============================] - 10s 175us/step - loss: 0.3349 - acc: 0.9032 - val_loss: 0.3294 - val_acc: 0.9063\n",
      "Epoch 79/100\n",
      "60000/60000 [==============================] - 11s 176us/step - loss: 0.3338 - acc: 0.9040 - val_loss: 0.3324 - val_acc: 0.9064\n",
      "Epoch 80/100\n",
      "60000/60000 [==============================] - 11s 182us/step - loss: 0.3328 - acc: 0.9033 - val_loss: 0.3258 - val_acc: 0.9068\n",
      "Epoch 81/100\n",
      "60000/60000 [==============================] - 11s 182us/step - loss: 0.3329 - acc: 0.9035 - val_loss: 0.3335 - val_acc: 0.9064\n",
      "Epoch 82/100\n",
      "60000/60000 [==============================] - 11s 190us/step - loss: 0.3336 - acc: 0.9036 - val_loss: 0.3389 - val_acc: 0.9041\n",
      "Epoch 83/100\n",
      "49504/60000 [=======================>......] - ETA: 1s - loss: 0.3374 - acc: 0.9021"
     ]
    }
   ],
   "source": [
    "model.fit(x_train, y_train,\n",
    "              batch_size=batch_size,\n",
    "              epochs=epochs,\n",
    "              validation_data=(x_test, y_test),\n",
    "              shuffle=True)"
   ]
  },
  {
   "cell_type": "code",
   "execution_count": 12,
   "metadata": {},
   "outputs": [
    {
     "name": "stdout",
     "output_type": "stream",
     "text": [
      "10000/10000 [==============================] - 0s 47us/step\n",
      "Test loss: 0.328858523798\n",
      "Test accuracy: 0.9071\n"
     ]
    }
   ],
   "source": [
    "scores = model.evaluate(x_test, y_test, verbose=1)\n",
    "print('Test loss:', scores[0])\n",
    "print('Test accuracy:', scores[1])"
   ]
  }
 ],
 "metadata": {
  "kernelspec": {
   "display_name": "Python 3",
   "language": "python",
   "name": "python3"
  },
  "language_info": {
   "codemirror_mode": {
    "name": "ipython",
    "version": 3
   },
   "file_extension": ".py",
   "mimetype": "text/x-python",
   "name": "python",
   "nbconvert_exporter": "python",
   "pygments_lexer": "ipython3",
   "version": "3.6.2"
  }
 },
 "nbformat": 4,
 "nbformat_minor": 2
}
